{
 "cells": [
  {
   "cell_type": "code",
   "execution_count": 1,
   "id": "7601ded6-5add-4b94-9f0d-bbc83a5e3e4b",
   "metadata": {},
   "outputs": [
    {
     "name": "stdout",
     "output_type": "stream",
     "text": [
      "Hello World!\n"
     ]
    }
   ],
   "source": [
    "# This a code Cell \n",
    "print(\"Hello World!\") "
   ]
  },
  {
   "cell_type": "markdown",
   "id": "e84c9d7c-948c-442a-96c7-19b7bef187bb",
   "metadata": {},
   "source": [
    "### This is a \"Markdown\" cell\n",
    "You can write textual content in markdown format!"
   ]
  },
  {
   "cell_type": "code",
   "execution_count": 13,
   "id": "2078d05f-1657-4412-a176-b7fbf4221f06",
   "metadata": {},
   "outputs": [],
   "source": [
    "a = 10 "
   ]
  },
  {
   "cell_type": "code",
   "execution_count": 18,
   "id": "d5b86abd-ac5f-4718-818f-f1cf06adb469",
   "metadata": {},
   "outputs": [
    {
     "name": "stdout",
     "output_type": "stream",
     "text": [
      "15\n"
     ]
    }
   ],
   "source": [
    "print(a)"
   ]
  },
  {
   "cell_type": "code",
   "execution_count": 21,
   "id": "eeecc8fc-aa39-4f16-840e-8fd9153cc184",
   "metadata": {},
   "outputs": [],
   "source": [
    "a = 15"
   ]
  },
  {
   "cell_type": "code",
   "execution_count": 22,
   "id": "34a6f4f6-6db3-4190-b980-f23321d4a88b",
   "metadata": {},
   "outputs": [
    {
     "name": "stdout",
     "output_type": "stream",
     "text": [
      "15\n"
     ]
    }
   ],
   "source": [
    "print(a)"
   ]
  },
  {
   "cell_type": "code",
   "execution_count": 19,
   "id": "5c58ff3b-332e-4d24-ac75-8232f68e6b03",
   "metadata": {},
   "outputs": [
    {
     "name": "stdout",
     "output_type": "stream",
     "text": [
      "5\n"
     ]
    }
   ],
   "source": [
    "a = 1\n",
    "a = 2\n",
    "a = 5\n",
    "print(a)"
   ]
  },
  {
   "cell_type": "code",
   "execution_count": null,
   "id": "c62e5a7b-a99f-44d3-aea3-884da7c49034",
   "metadata": {},
   "outputs": [],
   "source": []
  },
  {
   "cell_type": "code",
   "execution_count": null,
   "id": "615e61fd-353a-42d8-8f06-0e1a0055e7bd",
   "metadata": {},
   "outputs": [],
   "source": []
  }
 ],
 "metadata": {
  "kernelspec": {
   "display_name": "Python 3 (ipykernel)",
   "language": "python",
   "name": "python3"
  },
  "language_info": {
   "codemirror_mode": {
    "name": "ipython",
    "version": 3
   },
   "file_extension": ".py",
   "mimetype": "text/x-python",
   "name": "python",
   "nbconvert_exporter": "python",
   "pygments_lexer": "ipython3",
   "version": "3.12.3"
  }
 },
 "nbformat": 4,
 "nbformat_minor": 5
}
