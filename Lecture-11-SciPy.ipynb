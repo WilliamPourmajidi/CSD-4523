{
 "cells": [
  {
   "cell_type": "code",
   "execution_count": 1,
   "id": "c1eeb6a1-2378-45ca-a229-fcf011d25007",
   "metadata": {},
   "outputs": [
    {
     "name": "stdout",
     "output_type": "stream",
     "text": [
      "Requirement already satisfied: scipy in c:\\users\\william\\pycharmprojects\\csd-4523\\.venv\\lib\\site-packages (1.14.0)\n",
      "Requirement already satisfied: numpy<2.3,>=1.23.5 in c:\\users\\william\\pycharmprojects\\csd-4523\\.venv\\lib\\site-packages (from scipy) (2.0.1)\n"
     ]
    }
   ],
   "source": [
    "# Installing scipy package if it's not already installed\n",
    "!pip install scipy\n",
    "\n"
   ]
  },
  {
   "cell_type": "code",
   "execution_count": 3,
   "id": "8a3344a9-15f9-41c8-998f-89caa14c35df",
   "metadata": {},
   "outputs": [],
   "source": [
    "# Importing the necessary modules from scipy\n",
    "import numpy as np\n",
    "from scipy import stats\n"
   ]
  },
  {
   "cell_type": "code",
   "execution_count": 4,
   "id": "2ae16c28-9463-45cf-be5c-349388dd1785",
   "metadata": {},
   "outputs": [
    {
     "name": "stdout",
     "output_type": "stream",
     "text": [
      "Mean: 5.0\n",
      "Median: 5.0\n",
      "Mode: ModeResult(mode=np.int64(1), count=np.int64(1))\n",
      "Standard Deviation: 2.7386127875258306\n"
     ]
    }
   ],
   "source": [
    "# Define a sample data\n",
    "data = np.array([1, 2, 3, 4, 5, 6, 7, 8, 9])\n",
    "\n",
    "# Use scipy.stats to calculate descriptive statistics\n",
    "mean = stats.tmean(data)\n",
    "median = np.median(data)  # Corrected to use numpy's median function\n",
    "mode = stats.mode(data)\n",
    "std_dev = stats.tstd(data)\n",
    "\n",
    "print(\"Mean:\", mean)\n",
    "print(\"Median:\", median)\n",
    "print(\"Mode:\", mode)\n",
    "print(\"Standard Deviation:\", std_dev)\n"
   ]
  },
  {
   "cell_type": "code",
   "execution_count": null,
   "id": "e3f702d2-82ec-4619-b277-6be4e537bb1e",
   "metadata": {},
   "outputs": [],
   "source": []
  }
 ],
 "metadata": {
  "kernelspec": {
   "display_name": "Python 3 (ipykernel)",
   "language": "python",
   "name": "python3"
  },
  "language_info": {
   "codemirror_mode": {
    "name": "ipython",
    "version": 3
   },
   "file_extension": ".py",
   "mimetype": "text/x-python",
   "name": "python",
   "nbconvert_exporter": "python",
   "pygments_lexer": "ipython3",
   "version": "3.12.3"
  }
 },
 "nbformat": 4,
 "nbformat_minor": 5
}
