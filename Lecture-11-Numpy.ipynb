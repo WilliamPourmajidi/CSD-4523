{
 "cells": [
  {
   "cell_type": "code",
   "execution_count": 15,
   "id": "357413ec-712e-4a8c-bdbc-f71810b494db",
   "metadata": {},
   "outputs": [
    {
     "name": "stdout",
     "output_type": "stream",
     "text": [
      "Requirement already satisfied: numpy in c:\\users\\william\\pycharmprojects\\csd-4523\\.venv\\lib\\site-packages (2.0.1)\n"
     ]
    }
   ],
   "source": [
    "# Installing numpy package if it's not already installed\n",
    "!pip install numpy\n",
    "\n",
    " "
   ]
  },
  {
   "cell_type": "code",
   "execution_count": 16,
   "id": "52455fbb-6207-4234-8f33-8c31cc52f873",
   "metadata": {},
   "outputs": [],
   "source": [
    "# Importing numpy with an alias for ease of use\n",
    "import numpy as np\n",
    "\n",
    "    "
   ]
  },
  {
   "cell_type": "code",
   "execution_count": 18,
   "id": "d2485348-1422-477f-98ef-d38a1e8ce5f2",
   "metadata": {},
   "outputs": [
    {
     "name": "stdout",
     "output_type": "stream",
     "text": [
      "1D Array: [1 2 3 4 5]\n"
     ]
    }
   ],
   "source": [
    "# Creating a 1D array\n",
    "array_1d = np.array([1, 2, 3, 4, 5])\n",
    "print(\"1D Array:\", array_1d)"
   ]
  },
  {
   "cell_type": "code",
   "execution_count": 25,
   "id": "1e56aa69-376f-417d-af94-7917e271aa54",
   "metadata": {},
   "outputs": [
    {
     "name": "stdout",
     "output_type": "stream",
     "text": [
      "2D Array:\n",
      " [[1 2 3]\n",
      " [4 5 6]]\n",
      "My array has the shape of (rows , cols) (2, 3)\n"
     ]
    }
   ],
   "source": [
    "# Creating a 2D array\n",
    "array_2d = np.array([[1, 2, 3], [4, 5, 6]])\n",
    "print(\"2D Array:\\n\", array_2d)\n",
    "print(f\"My array has the shape of (rows , cols) {array_2d.shape}\")"
   ]
  },
  {
   "cell_type": "code",
   "execution_count": 29,
   "id": "f477b54f-ddc5-45a0-9e8b-a4ef0484f53d",
   "metadata": {},
   "outputs": [
    {
     "name": "stdout",
     "output_type": "stream",
     "text": [
      "Array shape: (2, 3)\n",
      "Array dimensions: 2\n",
      "Array size: 6\n",
      "Array data type: int64\n"
     ]
    }
   ],
   "source": [
    "# Array attributes\n",
    "array = np.array([[10, 20, 30], [40, 50, 60]])\n",
    "print(\"Array shape:\", array.shape)\n",
    "print(\"Array dimensions:\", array.ndim)\n",
    "print(\"Array size:\", array.size)\n",
    "print(\"Array data type:\", array.dtype)\n"
   ]
  },
  {
   "cell_type": "code",
   "execution_count": 33,
   "id": "c3df485a-e6b0-4175-93cc-3902fbb9d0c6",
   "metadata": {},
   "outputs": [
    {
     "name": "stdout",
     "output_type": "stream",
     "text": [
      "Zeros Array:\n",
      " [[0. 0. 0.]\n",
      " [0. 0. 0.]\n",
      " [0. 0. 0.]]\n",
      "Ones Array:\n",
      " [[1. 1. 1. 1.]\n",
      " [1. 1. 1. 1.]]\n",
      "Full Array:\n",
      " [[100 100 100 100 100]\n",
      " [100 100 100 100 100]\n",
      " [100 100 100 100 100]\n",
      " [100 100 100 100 100]\n",
      " [100 100 100 100 100]]\n"
     ]
    }
   ],
   "source": [
    "# Initializing arrays with zeros\n",
    "zeros_array = np.zeros((3, 3))\n",
    "print(\"Zeros Array:\\n\", zeros_array)\n",
    "\n",
    "# Initializing arrays with ones\n",
    "ones_array = np.ones((2, 4))\n",
    "print(\"Ones Array:\\n\", ones_array)\n",
    "\n",
    "# # Initializing arrays with a specific value\n",
    "full_array = np.full((5, 5), 100)\n",
    "print(\"Full Array:\\n\", full_array)\n"
   ]
  },
  {
   "cell_type": "code",
   "execution_count": 42,
   "id": "290869f7-3f93-452c-a9a3-51394130abed",
   "metadata": {},
   "outputs": [
    {
     "name": "stdout",
     "output_type": "stream",
     "text": [
      "Range Array: [   0    2    4 ... 9994 9996 9998]\n",
      "Linspace Array: [ 0.   2.5  5.   7.5 10. ]\n"
     ]
    }
   ],
   "source": [
    "# Creating an array with a range of values\n",
    "range_array = np.arange(0, 10000, 2) # even value \n",
    "print(\"Range Array:\", range_array)\n",
    "\n",
    "# Creating an array with evenly spaced values\n",
    "linspace_array = np.linspace(0, 10, 5)\n",
    "print(\"Linspace Array:\", linspace_array)\n"
   ]
  },
  {
   "cell_type": "code",
   "execution_count": 46,
   "id": "97d60460-fb2b-45e0-b2c7-ea6c706db549",
   "metadata": {},
   "outputs": [
    {
     "name": "stdout",
     "output_type": "stream",
     "text": [
      "Random Array:\n",
      " [[0.96639874 0.68009461 0.1171127  ... 0.77445491 0.2828917  0.16063674]\n",
      " [0.45536222 0.3477264  0.47290625 ... 0.83929706 0.57193268 0.11388858]\n",
      " [0.21797235 0.76343062 0.4958449  ... 0.61960987 0.89614608 0.87991268]\n",
      " ...\n",
      " [0.72919871 0.10324731 0.85157366 ... 0.77062916 0.79352027 0.48754011]\n",
      " [0.07491631 0.80243331 0.28103515 ... 0.50518398 0.75570171 0.61078435]\n",
      " [0.93676198 0.06058074 0.25833093 ... 0.94079853 0.41609879 0.46205743]]\n",
      "Random Integer Array:\n",
      " [[8 6 2 ... 3 9 7]\n",
      " [4 8 3 ... 3 7 9]\n",
      " [8 2 7 ... 4 3 4]\n",
      " ...\n",
      " [3 7 2 ... 1 3 9]\n",
      " [8 5 9 ... 2 6 7]\n",
      " [7 3 2 ... 3 3 1]]\n"
     ]
    }
   ],
   "source": [
    "# Creating an array with random values\n",
    "random_array = np.random.random((100, 100))\n",
    "print(\"Random Array:\\n\", random_array)\n",
    "\n",
    "# # Creating an array with random integers\n",
    "randint_array = np.random.randint(1, 10, (100, 100))\n",
    "print(\"Random Integer Array:\\n\", randint_array)\n"
   ]
  },
  {
   "cell_type": "code",
   "execution_count": 52,
   "id": "685f0765-9b42-4aed-ac55-6d0ee3a81686",
   "metadata": {},
   "outputs": [
    {
     "name": "stdout",
     "output_type": "stream",
     "text": [
      "Accessomg elemnts in my 2D list 5\n",
      "Element at row 0, column 1: 2\n",
      "Element at row 1, column 2: 5\n"
     ]
    }
   ],
   "source": [
    "# Accessing elements in a 1D array\n",
    "# array = np.array([1, 2, 3, 4, 5])\n",
    "# print(\"Element at index 0:\", array[0])\n",
    "# print(\"Element at index 3:\", array[3])\n",
    "\n",
    "\n",
    "my_2d_list = [[1, 2, 3],\n",
    "              [4, 5, 6]]\n",
    "\n",
    "print(f\"Accessomg elemnts in my 2D list {my_2d_list[1][1]}\")\n",
    "\n",
    "# Accessing elements in a 2D array\n",
    "# array_2d = np.array([[1, 2, 3], [4, 5, 6]])\n",
    "print(\"Element at row 0, column 1:\", array_2d[0, 1])\n",
    "print(\"Element at row 1, column 2:\", array_2d[1, 1])\n",
    "\n"
   ]
  },
  {
   "cell_type": "code",
   "execution_count": 59,
   "id": "57669435-9460-4a54-86a1-5fb3c23dde5f",
   "metadata": {},
   "outputs": [
    {
     "name": "stdout",
     "output_type": "stream",
     "text": [
      "(6,)\n",
      "Reshaped Array:\n",
      " [[1 2 3]\n",
      " [4 5 6]]\n",
      "(2, 3)\n",
      "Flattened Array: [1 2 3 4 5 6]\n",
      "(6,)\n"
     ]
    }
   ],
   "source": [
    "# Reshaping a 1D array to a 2D array\n",
    "array = np.array([1, 2, 3, 4, 5, 6])\n",
    "print(array.shape)\n",
    "reshaped_array = array.reshape((2, 3))\n",
    "print(\"Reshaped Array:\\n\", reshaped_array)\n",
    "print(reshaped_array.shape)\n",
    "\n",
    "\n",
    "# Flattening a 2D array to a 1D array\n",
    "flattened_array = reshaped_array.flatten()\n",
    "print(\"Flattened Array:\", flattened_array)\n",
    "print(flattened_array.shape)"
   ]
  },
  {
   "cell_type": "code",
   "execution_count": 61,
   "id": "97c9a0b0-79ed-4385-b36b-2cead30ef412",
   "metadata": {},
   "outputs": [
    {
     "name": "stdout",
     "output_type": "stream",
     "text": [
      "Concatenated Array: [1 2 3 4 5 6]\n",
      "Concatenated 2D Array along rows:\n",
      " [[1 2]\n",
      " [3 4]\n",
      " [5 6]\n",
      " [7 8]]\n"
     ]
    }
   ],
   "source": [
    "# Concatenating two 1D arrays\n",
    "array1 = np.array([1, 2, 3])\n",
    "array2 = np.array([4, 5, 6])\n",
    "concatenated_array = np.concatenate((array1, array2))\n",
    "print(\"Concatenated Array:\", concatenated_array)\n",
    "\n",
    "# Concatenating two 2D arrays along rows\n",
    "array1_2d = np.array([[1, 2], [3, 4]])\n",
    "array2_2d = np.array([[5, 6], [7, 8]])\n",
    "concatenated_array_2d = np.concatenate((array1_2d, array2_2d), axis=0)\n",
    "print(\"Concatenated 2D Array along rows:\\n\", concatenated_array_2d)\n",
    "\n",
    "# Concatenating two 2D arrays along columns\n",
    "concatenated_array_2d_col = np.concatenate((array1_2d, array2_2d), axis=1)\n",
    "print(\"Concatenated 2D Array along columns:\\n\", concatenated_array_2d_col)\n"
   ]
  },
  {
   "cell_type": "code",
   "execution_count": 71,
   "id": "fc731697-d09a-4152-ae40-787876affda0",
   "metadata": {},
   "outputs": [
    {
     "name": "stdout",
     "output_type": "stream",
     "text": [
      "45 9\n",
      "The mean calculated manually is 5.0\n",
      "The mean calculated automatically is 5.0\n",
      "Median: 5.0\n",
      "Standard Deviation: 2.581988897471611\n"
     ]
    }
   ],
   "source": [
    "# Statistical functions\n",
    "array = np.array([1, 2, 3, 4, 5,6,7,8,9])\n",
    "\n",
    "# Manually calculate the mean!\n",
    "python_sum = 0\n",
    "count = 0 \n",
    "for i in array:\n",
    "    python_sum = python_sum + i\n",
    "    count += 1\n",
    "print(python_sum , count)\n",
    "manual_mean = python_sum / count  \n",
    "print(f\"The mean calculated manually is {manual_mean}\")\n",
    "\n",
    "# Mean\n",
    "mean = np.mean(array)\n",
    "print(f\"The mean calculated automatically is {mean}\")\n",
    "\n",
    "# Median\n",
    "median = np.median(array)\n",
    "print(\"Median:\", median)\n",
    "\n",
    "# Standard deviation\n",
    "std_dev = np.std(array)\n",
    "print(\"Standard Deviation:\", std_dev)\n",
    "\n"
   ]
  },
  {
   "cell_type": "markdown",
   "id": "816a9754-64f5-42cd-a08d-7c6798a38453",
   "metadata": {},
   "source": []
  },
  {
   "cell_type": "code",
   "execution_count": null,
   "id": "a6d65bae-58c1-4cb6-b58c-9bc5d14cca6f",
   "metadata": {},
   "outputs": [],
   "source": []
  }
 ],
 "metadata": {
  "kernelspec": {
   "display_name": "Python 3 (ipykernel)",
   "language": "python",
   "name": "python3"
  },
  "language_info": {
   "codemirror_mode": {
    "name": "ipython",
    "version": 3
   },
   "file_extension": ".py",
   "mimetype": "text/x-python",
   "name": "python",
   "nbconvert_exporter": "python",
   "pygments_lexer": "ipython3",
   "version": "3.12.3"
  }
 },
 "nbformat": 4,
 "nbformat_minor": 5
}
