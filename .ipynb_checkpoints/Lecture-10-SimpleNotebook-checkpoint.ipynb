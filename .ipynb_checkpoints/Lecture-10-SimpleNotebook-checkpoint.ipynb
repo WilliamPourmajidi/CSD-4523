{
 "cells": [
  {
   "cell_type": "code",
   "execution_count": 1,
   "id": "7601ded6-5add-4b94-9f0d-bbc83a5e3e4b",
   "metadata": {},
   "outputs": [
    {
     "name": "stdout",
     "output_type": "stream",
     "text": [
      "Hello World!\n"
     ]
    }
   ],
   "source": [
    "# This a code Cell \n",
    "print(\"Hello World!\") "
   ]
  },
  {
   "cell_type": "markdown",
   "id": "e84c9d7c-948c-442a-96c7-19b7bef187bb",
   "metadata": {},
   "source": [
    "### This is a \"Markdown\" cell\n",
    "You can write textual content in markdown format!"
   ]
  },
  {
   "cell_type": "raw",
   "id": "a0c8a4e1-8ea4-4ef5-9142-43f714d670c8",
   "metadata": {},
   "source": [
    "This is a raw cell"
   ]
  }
 ],
 "metadata": {
  "kernelspec": {
   "display_name": "Python 3 (ipykernel)",
   "language": "python",
   "name": "python3"
  },
  "language_info": {
   "codemirror_mode": {
    "name": "ipython",
    "version": 3
   },
   "file_extension": ".py",
   "mimetype": "text/x-python",
   "name": "python",
   "nbconvert_exporter": "python",
   "pygments_lexer": "ipython3",
   "version": "3.12.3"
  }
 },
 "nbformat": 4,
 "nbformat_minor": 5
}
