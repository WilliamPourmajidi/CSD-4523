{
 "cells": [
  {
   "cell_type": "code",
   "execution_count": 26,
   "id": "357413ec-712e-4a8c-bdbc-f71810b494db",
   "metadata": {},
   "outputs": [
    {
     "name": "stdout",
     "output_type": "stream",
     "text": [
      "Requirement already satisfied: numpy in c:\\users\\william\\pycharmprojects\\csd-4523\\.venv\\lib\\site-packages (2.0.1)\n"
     ]
    }
   ],
   "source": [
    "# Installing numpy package if it's not already installed\n",
    "!pip install numpy\n",
    "\n",
    " "
   ]
  },
  {
   "cell_type": "code",
   "execution_count": 14,
   "id": "52455fbb-6207-4234-8f33-8c31cc52f873",
   "metadata": {},
   "outputs": [],
   "source": [
    "# Importing numpy with an alias for ease of use\n",
    "import numpy as np\n",
    "    "
   ]
  },
  {
   "cell_type": "code",
   "execution_count": 24,
   "id": "d2485348-1422-477f-98ef-d38a1e8ce5f2",
   "metadata": {},
   "outputs": [
    {
     "name": "stdout",
     "output_type": "stream",
     "text": [
      "1D Array: [1 2 3 4 5]\n",
      "2D Array:\n",
      " [[1 2 3]\n",
      " [4 5 6]]\n"
     ]
    }
   ],
   "source": [
    "# Creating a 1D array\n",
    "array_1d = np.array([1, 2, 3, 4, 5])\n",
    "print(\"1D Array:\", array_1d)\n",
    "\n",
    "# Creating a 2D array\n",
    "array_2d = np.array([[1, 2, 3], [4, 5, 6]])\n",
    "print(\"2D Array:\\n\", array_2d)\n"
   ]
  },
  {
   "cell_type": "code",
   "execution_count": 17,
   "id": "f477b54f-ddc5-45a0-9e8b-a4ef0484f53d",
   "metadata": {},
   "outputs": [
    {
     "name": "stdout",
     "output_type": "stream",
     "text": [
      "Array shape: (2, 3)\n",
      "Array dimensions: 2\n",
      "Array size: 6\n",
      "Array data type: int64\n"
     ]
    }
   ],
   "source": [
    "# Array attributes\n",
    "array = np.array([[1, 2, 3], [4, 5, 6]])\n",
    "print(\"Array shape:\", array.shape)\n",
    "print(\"Array dimensions:\", array.ndim)\n",
    "print(\"Array size:\", array.size)\n",
    "print(\"Array data type:\", array.dtype)\n"
   ]
  },
  {
   "cell_type": "code",
   "execution_count": 18,
   "id": "c3df485a-e6b0-4175-93cc-3902fbb9d0c6",
   "metadata": {},
   "outputs": [
    {
     "name": "stdout",
     "output_type": "stream",
     "text": [
      "Zeros Array:\n",
      " [[0. 0. 0.]\n",
      " [0. 0. 0.]\n",
      " [0. 0. 0.]]\n",
      "Ones Array:\n",
      " [[1. 1. 1. 1.]\n",
      " [1. 1. 1. 1.]]\n",
      "Full Array:\n",
      " [[7 7]\n",
      " [7 7]]\n"
     ]
    }
   ],
   "source": [
    "# Initializing arrays with zeros\n",
    "zeros_array = np.zeros((3, 3))\n",
    "print(\"Zeros Array:\\n\", zeros_array)\n",
    "\n",
    "# Initializing arrays with ones\n",
    "ones_array = np.ones((2, 4))\n",
    "print(\"Ones Array:\\n\", ones_array)\n",
    "\n",
    "# Initializing arrays with a specific value\n",
    "full_array = np.full((2, 2), 7)\n",
    "print(\"Full Array:\\n\", full_array)\n"
   ]
  },
  {
   "cell_type": "code",
   "execution_count": 19,
   "id": "290869f7-3f93-452c-a9a3-51394130abed",
   "metadata": {},
   "outputs": [
    {
     "name": "stdout",
     "output_type": "stream",
     "text": [
      "Range Array: [0 2 4 6 8]\n",
      "Linspace Array: [0.   0.25 0.5  0.75 1.  ]\n"
     ]
    }
   ],
   "source": [
    "# Creating an array with a range of values\n",
    "range_array = np.arange(0, 10, 2)\n",
    "print(\"Range Array:\", range_array)\n",
    "\n",
    "# Creating an array with evenly spaced values\n",
    "linspace_array = np.linspace(0, 1, 5)\n",
    "print(\"Linspace Array:\", linspace_array)\n"
   ]
  },
  {
   "cell_type": "code",
   "execution_count": null,
   "id": "97d60460-fb2b-45e0-b2c7-ea6c706db549",
   "metadata": {},
   "outputs": [],
   "source": [
    "# Creating an array with random values\n",
    "random_array = np.random.random((3, 3))\n",
    "print(\"Random Array:\\n\", random_array)\n",
    "\n",
    "# Creating an array with random integers\n",
    "randint_array = np.random.randint(1, 10, (3, 3))\n",
    "print(\"Random Integer Array:\\n\", randint_array)\n"
   ]
  },
  {
   "cell_type": "code",
   "execution_count": 20,
   "id": "685f0765-9b42-4aed-ac55-6d0ee3a81686",
   "metadata": {},
   "outputs": [
    {
     "name": "stdout",
     "output_type": "stream",
     "text": [
      "Element at index 0: 1\n",
      "Element at index 3: 4\n",
      "Element at row 0, column 1: 2\n",
      "Element at row 1, column 2: 6\n"
     ]
    }
   ],
   "source": [
    "# Accessing elements in a 1D array\n",
    "array = np.array([1, 2, 3, 4, 5])\n",
    "print(\"Element at index 0:\", array[0])\n",
    "print(\"Element at index 3:\", array[3])\n",
    "\n",
    "# Accessing elements in a 2D array\n",
    "array_2d = np.array([[1, 2, 3], [4, 5, 6]])\n",
    "print(\"Element at row 0, column 1:\", array_2d[0, 1])\n",
    "print(\"Element at row 1, column 2:\", array_2d[1, 2])\n",
    "\n"
   ]
  },
  {
   "cell_type": "code",
   "execution_count": 21,
   "id": "57669435-9460-4a54-86a1-5fb3c23dde5f",
   "metadata": {},
   "outputs": [
    {
     "name": "stdout",
     "output_type": "stream",
     "text": [
      "Reshaped Array:\n",
      " [[1 2 3]\n",
      " [4 5 6]]\n",
      "Flattened Array: [1 2 3 4 5 6]\n"
     ]
    }
   ],
   "source": [
    "# Reshaping a 1D array to a 2D array\n",
    "array = np.array([1, 2, 3, 4, 5, 6])\n",
    "reshaped_array = array.reshape((2, 3))\n",
    "print(\"Reshaped Array:\\n\", reshaped_array)\n",
    "\n",
    "# Flattening a 2D array to a 1D array\n",
    "flattened_array = reshaped_array.flatten()\n",
    "print(\"Flattened Array:\", flattened_array)\n"
   ]
  },
  {
   "cell_type": "code",
   "execution_count": 28,
   "id": "97c9a0b0-79ed-4385-b36b-2cead30ef412",
   "metadata": {},
   "outputs": [
    {
     "name": "stdout",
     "output_type": "stream",
     "text": [
      "Concatenated Array: [1 2 3 4 5 6]\n",
      "Concatenated 2D Array along rows:\n",
      " [[1 2]\n",
      " [3 4]\n",
      " [5 6]\n",
      " [7 8]]\n",
      "Concatenated 2D Array along columns:\n",
      " [[1 2 5 6]\n",
      " [3 4 7 8]]\n"
     ]
    }
   ],
   "source": [
    "# Concatenating two 1D arrays\n",
    "array1 = np.array([1, 2, 3])\n",
    "array2 = np.array([4, 5, 6])\n",
    "concatenated_array = np.concatenate((array1, array2))\n",
    "print(\"Concatenated Array:\", concatenated_array)\n",
    "\n",
    "# Concatenating two 2D arrays along rows\n",
    "array1_2d = np.array([[1, 2], [3, 4]])\n",
    "array2_2d = np.array([[5, 6], [7, 8]])\n",
    "concatenated_array_2d = np.concatenate((array1_2d, array2_2d), axis=0)\n",
    "print(\"Concatenated 2D Array along rows:\\n\", concatenated_array_2d)\n",
    "\n",
    "# Concatenating two 2D arrays along columns\n",
    "concatenated_array_2d_col = np.concatenate((array1_2d, array2_2d), axis=1)\n",
    "print(\"Concatenated 2D Array along columns:\\n\", concatenated_array_2d_col)\n"
   ]
  },
  {
   "cell_type": "code",
   "execution_count": 29,
   "id": "fc731697-d09a-4152-ae40-787876affda0",
   "metadata": {},
   "outputs": [
    {
     "name": "stdout",
     "output_type": "stream",
     "text": [
      "Mean: 3.0\n",
      "Median: 3.0\n",
      "Standard Deviation: 1.4142135623730951\n"
     ]
    }
   ],
   "source": [
    "# Statistical functions\n",
    "array = np.array([1, 2, 3, 4, 5])\n",
    "\n",
    "# Mean\n",
    "mean = np.mean(array)\n",
    "print(\"Mean:\", mean)\n",
    "\n",
    "# Median\n",
    "median = np.median(array)\n",
    "print(\"Median:\", median)\n",
    "\n",
    "# Standard deviation\n",
    "std_dev = np.std(array)\n",
    "print(\"Standard Deviation:\", std_dev)\n",
    "\n"
   ]
  },
  {
   "cell_type": "code",
   "execution_count": null,
   "id": "8c6e93d0-6ab1-43a6-b764-b515258d9e86",
   "metadata": {},
   "outputs": [],
   "source": []
  },
  {
   "cell_type": "code",
   "execution_count": null,
   "id": "4fe4c4ef-7845-44cf-943f-a054122d18c5",
   "metadata": {},
   "outputs": [],
   "source": []
  }
 ],
 "metadata": {
  "kernelspec": {
   "display_name": "Python 3 (ipykernel)",
   "language": "python",
   "name": "python3"
  },
  "language_info": {
   "codemirror_mode": {
    "name": "ipython",
    "version": 3
   },
   "file_extension": ".py",
   "mimetype": "text/x-python",
   "name": "python",
   "nbconvert_exporter": "python",
   "pygments_lexer": "ipython3",
   "version": "3.12.3"
  }
 },
 "nbformat": 4,
 "nbformat_minor": 5
}
