{
 "cells": [
  {
   "cell_type": "markdown",
   "id": "9caf9c26-2b81-4768-a585-a3d4498d15b2",
   "metadata": {},
   "source": [
    "### Importing important libraries"
   ]
  },
  {
   "cell_type": "code",
   "id": "9d13d3cd-b2cc-4e84-ba0d-f7379239fa00",
   "metadata": {
    "ExecuteTime": {
     "end_time": "2024-11-20T15:53:12.831509Z",
     "start_time": "2024-11-20T15:53:09.276066Z"
    }
   },
   "source": [
    "import random\n",
    "import matplotlib.pyplot as plt"
   ],
   "outputs": [],
   "execution_count": 2
  },
  {
   "cell_type": "markdown",
   "id": "ce4efe56-6f68-4720-8e1b-84f4e9a936dc",
   "metadata": {},
   "source": "### Generate a dictionary with heights and weights of 10 students\n"
  },
  {
   "cell_type": "code",
   "id": "007ca013-71e9-43a3-a0b2-bf3113a02489",
   "metadata": {
    "ExecuteTime": {
     "end_time": "2024-11-20T15:56:30.465388Z",
     "start_time": "2024-11-20T15:56:30.447598Z"
    }
   },
   "source": [
    "students = {\n",
    "    f\"Student_{i+1}\": {\n",
    "        \"Height\": random.randint(140, 160),  # Heights in cm\n",
    "        \"Weight\": random.randint(80, 120)   # Weights in kg\n",
    "    }\n",
    "    for i in range(100)\n",
    "}"
   ],
   "outputs": [],
   "execution_count": 12
  },
  {
   "cell_type": "markdown",
   "id": "facf1ab5-9187-467c-a779-8fcc2dee2667",
   "metadata": {},
   "source": [
    "### Extract data for visualization"
   ]
  },
  {
   "cell_type": "code",
   "id": "c876587f-e583-4b76-9bca-46fed1a1fa69",
   "metadata": {
    "ExecuteTime": {
     "end_time": "2024-11-20T15:56:33.892018Z",
     "start_time": "2024-11-20T15:56:33.885388Z"
    }
   },
   "source": [
    "student_names = list(students.keys())\n",
    "heights = [students[student][\"Height\"] for student in student_names]\n",
    "weights = [students[student][\"Weight\"] for student in student_names]"
   ],
   "outputs": [],
   "execution_count": 13
  },
  {
   "cell_type": "markdown",
   "id": "75b501e7-9e0a-431a-b9d7-208cda82e4e2",
   "metadata": {},
   "source": [
    "### Checking the content of our list "
   ]
  },
  {
   "cell_type": "code",
   "id": "45a254c7-ed86-4daf-8946-f3fca23c0465",
   "metadata": {
    "ExecuteTime": {
     "end_time": "2024-11-20T15:56:37.622931Z",
     "start_time": "2024-11-20T15:56:37.597413Z"
    }
   },
   "source": [
    "student_names"
   ],
   "outputs": [
    {
     "data": {
      "text/plain": [
       "['Student_1',\n",
       " 'Student_2',\n",
       " 'Student_3',\n",
       " 'Student_4',\n",
       " 'Student_5',\n",
       " 'Student_6',\n",
       " 'Student_7',\n",
       " 'Student_8',\n",
       " 'Student_9',\n",
       " 'Student_10',\n",
       " 'Student_11',\n",
       " 'Student_12',\n",
       " 'Student_13',\n",
       " 'Student_14',\n",
       " 'Student_15',\n",
       " 'Student_16',\n",
       " 'Student_17',\n",
       " 'Student_18',\n",
       " 'Student_19',\n",
       " 'Student_20',\n",
       " 'Student_21',\n",
       " 'Student_22',\n",
       " 'Student_23',\n",
       " 'Student_24',\n",
       " 'Student_25',\n",
       " 'Student_26',\n",
       " 'Student_27',\n",
       " 'Student_28',\n",
       " 'Student_29',\n",
       " 'Student_30',\n",
       " 'Student_31',\n",
       " 'Student_32',\n",
       " 'Student_33',\n",
       " 'Student_34',\n",
       " 'Student_35',\n",
       " 'Student_36',\n",
       " 'Student_37',\n",
       " 'Student_38',\n",
       " 'Student_39',\n",
       " 'Student_40',\n",
       " 'Student_41',\n",
       " 'Student_42',\n",
       " 'Student_43',\n",
       " 'Student_44',\n",
       " 'Student_45',\n",
       " 'Student_46',\n",
       " 'Student_47',\n",
       " 'Student_48',\n",
       " 'Student_49',\n",
       " 'Student_50',\n",
       " 'Student_51',\n",
       " 'Student_52',\n",
       " 'Student_53',\n",
       " 'Student_54',\n",
       " 'Student_55',\n",
       " 'Student_56',\n",
       " 'Student_57',\n",
       " 'Student_58',\n",
       " 'Student_59',\n",
       " 'Student_60',\n",
       " 'Student_61',\n",
       " 'Student_62',\n",
       " 'Student_63',\n",
       " 'Student_64',\n",
       " 'Student_65',\n",
       " 'Student_66',\n",
       " 'Student_67',\n",
       " 'Student_68',\n",
       " 'Student_69',\n",
       " 'Student_70',\n",
       " 'Student_71',\n",
       " 'Student_72',\n",
       " 'Student_73',\n",
       " 'Student_74',\n",
       " 'Student_75',\n",
       " 'Student_76',\n",
       " 'Student_77',\n",
       " 'Student_78',\n",
       " 'Student_79',\n",
       " 'Student_80',\n",
       " 'Student_81',\n",
       " 'Student_82',\n",
       " 'Student_83',\n",
       " 'Student_84',\n",
       " 'Student_85',\n",
       " 'Student_86',\n",
       " 'Student_87',\n",
       " 'Student_88',\n",
       " 'Student_89',\n",
       " 'Student_90',\n",
       " 'Student_91',\n",
       " 'Student_92',\n",
       " 'Student_93',\n",
       " 'Student_94',\n",
       " 'Student_95',\n",
       " 'Student_96',\n",
       " 'Student_97',\n",
       " 'Student_98',\n",
       " 'Student_99',\n",
       " 'Student_100']"
      ]
     },
     "execution_count": 14,
     "metadata": {},
     "output_type": "execute_result"
    }
   ],
   "execution_count": 14
  },
  {
   "cell_type": "markdown",
   "id": "341d68e2-e7eb-4a7b-a8e2-7e8b5965b9d1",
   "metadata": {},
   "source": [
    "### Checking the content of our heights and weights"
   ]
  },
  {
   "cell_type": "code",
   "id": "49451275-c616-4893-8c4f-3be4bbb260a4",
   "metadata": {
    "ExecuteTime": {
     "end_time": "2024-11-20T15:56:40.093989Z",
     "start_time": "2024-11-20T15:56:40.068451Z"
    }
   },
   "source": [
    "heights"
   ],
   "outputs": [
    {
     "data": {
      "text/plain": [
       "[158,\n",
       " 146,\n",
       " 143,\n",
       " 154,\n",
       " 151,\n",
       " 148,\n",
       " 143,\n",
       " 153,\n",
       " 153,\n",
       " 142,\n",
       " 142,\n",
       " 145,\n",
       " 155,\n",
       " 143,\n",
       " 152,\n",
       " 156,\n",
       " 142,\n",
       " 155,\n",
       " 147,\n",
       " 148,\n",
       " 150,\n",
       " 155,\n",
       " 143,\n",
       " 156,\n",
       " 157,\n",
       " 147,\n",
       " 153,\n",
       " 156,\n",
       " 155,\n",
       " 148,\n",
       " 144,\n",
       " 158,\n",
       " 146,\n",
       " 142,\n",
       " 140,\n",
       " 159,\n",
       " 147,\n",
       " 154,\n",
       " 158,\n",
       " 155,\n",
       " 157,\n",
       " 158,\n",
       " 149,\n",
       " 158,\n",
       " 142,\n",
       " 150,\n",
       " 143,\n",
       " 157,\n",
       " 160,\n",
       " 157,\n",
       " 151,\n",
       " 155,\n",
       " 159,\n",
       " 159,\n",
       " 148,\n",
       " 154,\n",
       " 146,\n",
       " 159,\n",
       " 158,\n",
       " 145,\n",
       " 149,\n",
       " 143,\n",
       " 143,\n",
       " 142,\n",
       " 151,\n",
       " 160,\n",
       " 141,\n",
       " 158,\n",
       " 145,\n",
       " 145,\n",
       " 159,\n",
       " 144,\n",
       " 141,\n",
       " 156,\n",
       " 149,\n",
       " 155,\n",
       " 153,\n",
       " 153,\n",
       " 151,\n",
       " 154,\n",
       " 148,\n",
       " 155,\n",
       " 153,\n",
       " 151,\n",
       " 156,\n",
       " 158,\n",
       " 145,\n",
       " 148,\n",
       " 145,\n",
       " 153,\n",
       " 146,\n",
       " 156,\n",
       " 158,\n",
       " 151,\n",
       " 153,\n",
       " 143,\n",
       " 143,\n",
       " 146,\n",
       " 148,\n",
       " 154]"
      ]
     },
     "execution_count": 15,
     "metadata": {},
     "output_type": "execute_result"
    }
   ],
   "execution_count": 15
  },
  {
   "cell_type": "code",
   "id": "9f851107-6a97-4846-8dc1-24aaaf15892b",
   "metadata": {
    "ExecuteTime": {
     "end_time": "2024-11-20T15:56:42.279827Z",
     "start_time": "2024-11-20T15:56:42.268184Z"
    }
   },
   "source": [
    "weights"
   ],
   "outputs": [
    {
     "data": {
      "text/plain": [
       "[104,\n",
       " 103,\n",
       " 99,\n",
       " 103,\n",
       " 110,\n",
       " 112,\n",
       " 97,\n",
       " 99,\n",
       " 86,\n",
       " 112,\n",
       " 89,\n",
       " 120,\n",
       " 88,\n",
       " 87,\n",
       " 81,\n",
       " 113,\n",
       " 87,\n",
       " 119,\n",
       " 102,\n",
       " 80,\n",
       " 98,\n",
       " 95,\n",
       " 119,\n",
       " 116,\n",
       " 83,\n",
       " 102,\n",
       " 88,\n",
       " 112,\n",
       " 103,\n",
       " 118,\n",
       " 103,\n",
       " 111,\n",
       " 90,\n",
       " 91,\n",
       " 114,\n",
       " 84,\n",
       " 102,\n",
       " 97,\n",
       " 100,\n",
       " 90,\n",
       " 112,\n",
       " 111,\n",
       " 85,\n",
       " 117,\n",
       " 81,\n",
       " 86,\n",
       " 108,\n",
       " 113,\n",
       " 119,\n",
       " 81,\n",
       " 88,\n",
       " 97,\n",
       " 98,\n",
       " 86,\n",
       " 106,\n",
       " 93,\n",
       " 85,\n",
       " 117,\n",
       " 109,\n",
       " 86,\n",
       " 87,\n",
       " 98,\n",
       " 115,\n",
       " 80,\n",
       " 86,\n",
       " 86,\n",
       " 113,\n",
       " 116,\n",
       " 87,\n",
       " 97,\n",
       " 114,\n",
       " 116,\n",
       " 116,\n",
       " 111,\n",
       " 103,\n",
       " 104,\n",
       " 98,\n",
       " 108,\n",
       " 117,\n",
       " 90,\n",
       " 96,\n",
       " 99,\n",
       " 98,\n",
       " 84,\n",
       " 114,\n",
       " 85,\n",
       " 113,\n",
       " 94,\n",
       " 101,\n",
       " 92,\n",
       " 114,\n",
       " 113,\n",
       " 85,\n",
       " 103,\n",
       " 115,\n",
       " 112,\n",
       " 87,\n",
       " 83,\n",
       " 97,\n",
       " 86]"
      ]
     },
     "execution_count": 16,
     "metadata": {},
     "output_type": "execute_result"
    }
   ],
   "execution_count": 16
  },
  {
   "cell_type": "markdown",
   "id": "2b0de9fb-25e8-4e64-b2f3-5613c2cc3b66",
   "metadata": {},
   "source": [
    "### Calculate average height and weight\n"
   ]
  },
  {
   "cell_type": "code",
   "id": "9eedeb8d-742a-4d80-b69c-a7779eb6d9af",
   "metadata": {
    "ExecuteTime": {
     "end_time": "2024-11-20T15:56:47.853992Z",
     "start_time": "2024-11-20T15:56:47.839581Z"
    }
   },
   "source": [
    "average_height = sum(heights) / len(heights)\n",
    "average_weight = sum(weights) / len(weights)\n",
    "print(f\"average Height is {average_height}\")\n",
    "print(f\"average Weight is {average_weight}\")"
   ],
   "outputs": [
    {
     "name": "stdout",
     "output_type": "stream",
     "text": [
      "average Height is 150.66\n",
      "average Weight is 99.98\n"
     ]
    }
   ],
   "execution_count": 17
  },
  {
   "cell_type": "markdown",
   "id": "9b0a5829-4a0a-4ffc-8920-5c42bf56379c",
   "metadata": {},
   "source": [
    "### Print the data (showing all we have so far!)"
   ]
  },
  {
   "cell_type": "code",
   "id": "d6185afa-582e-4bf1-ae4e-1f986618f839",
   "metadata": {
    "ExecuteTime": {
     "end_time": "2024-11-20T15:56:54.068258Z",
     "start_time": "2024-11-20T15:56:54.051024Z"
    }
   },
   "source": [
    "print(\"Student Data:\")\n",
    "for student, data in students.items():\n",
    "    print(f\"{student} - Height: {data['Height']} cm, Weight: {data['Weight']} kg\")\n",
    "print(f\"\\nAverage Height: {average_height:.2f} cm\")\n",
    "print(f\"Average Weight: {average_weight:.2f} kg\")\n"
   ],
   "outputs": [
    {
     "name": "stdout",
     "output_type": "stream",
     "text": [
      "Student Data:\n",
      "Student_1 - Height: 158 cm, Weight: 104 kg\n",
      "Student_2 - Height: 146 cm, Weight: 103 kg\n",
      "Student_3 - Height: 143 cm, Weight: 99 kg\n",
      "Student_4 - Height: 154 cm, Weight: 103 kg\n",
      "Student_5 - Height: 151 cm, Weight: 110 kg\n",
      "Student_6 - Height: 148 cm, Weight: 112 kg\n",
      "Student_7 - Height: 143 cm, Weight: 97 kg\n",
      "Student_8 - Height: 153 cm, Weight: 99 kg\n",
      "Student_9 - Height: 153 cm, Weight: 86 kg\n",
      "Student_10 - Height: 142 cm, Weight: 112 kg\n",
      "Student_11 - Height: 142 cm, Weight: 89 kg\n",
      "Student_12 - Height: 145 cm, Weight: 120 kg\n",
      "Student_13 - Height: 155 cm, Weight: 88 kg\n",
      "Student_14 - Height: 143 cm, Weight: 87 kg\n",
      "Student_15 - Height: 152 cm, Weight: 81 kg\n",
      "Student_16 - Height: 156 cm, Weight: 113 kg\n",
      "Student_17 - Height: 142 cm, Weight: 87 kg\n",
      "Student_18 - Height: 155 cm, Weight: 119 kg\n",
      "Student_19 - Height: 147 cm, Weight: 102 kg\n",
      "Student_20 - Height: 148 cm, Weight: 80 kg\n",
      "Student_21 - Height: 150 cm, Weight: 98 kg\n",
      "Student_22 - Height: 155 cm, Weight: 95 kg\n",
      "Student_23 - Height: 143 cm, Weight: 119 kg\n",
      "Student_24 - Height: 156 cm, Weight: 116 kg\n",
      "Student_25 - Height: 157 cm, Weight: 83 kg\n",
      "Student_26 - Height: 147 cm, Weight: 102 kg\n",
      "Student_27 - Height: 153 cm, Weight: 88 kg\n",
      "Student_28 - Height: 156 cm, Weight: 112 kg\n",
      "Student_29 - Height: 155 cm, Weight: 103 kg\n",
      "Student_30 - Height: 148 cm, Weight: 118 kg\n",
      "Student_31 - Height: 144 cm, Weight: 103 kg\n",
      "Student_32 - Height: 158 cm, Weight: 111 kg\n",
      "Student_33 - Height: 146 cm, Weight: 90 kg\n",
      "Student_34 - Height: 142 cm, Weight: 91 kg\n",
      "Student_35 - Height: 140 cm, Weight: 114 kg\n",
      "Student_36 - Height: 159 cm, Weight: 84 kg\n",
      "Student_37 - Height: 147 cm, Weight: 102 kg\n",
      "Student_38 - Height: 154 cm, Weight: 97 kg\n",
      "Student_39 - Height: 158 cm, Weight: 100 kg\n",
      "Student_40 - Height: 155 cm, Weight: 90 kg\n",
      "Student_41 - Height: 157 cm, Weight: 112 kg\n",
      "Student_42 - Height: 158 cm, Weight: 111 kg\n",
      "Student_43 - Height: 149 cm, Weight: 85 kg\n",
      "Student_44 - Height: 158 cm, Weight: 117 kg\n",
      "Student_45 - Height: 142 cm, Weight: 81 kg\n",
      "Student_46 - Height: 150 cm, Weight: 86 kg\n",
      "Student_47 - Height: 143 cm, Weight: 108 kg\n",
      "Student_48 - Height: 157 cm, Weight: 113 kg\n",
      "Student_49 - Height: 160 cm, Weight: 119 kg\n",
      "Student_50 - Height: 157 cm, Weight: 81 kg\n",
      "Student_51 - Height: 151 cm, Weight: 88 kg\n",
      "Student_52 - Height: 155 cm, Weight: 97 kg\n",
      "Student_53 - Height: 159 cm, Weight: 98 kg\n",
      "Student_54 - Height: 159 cm, Weight: 86 kg\n",
      "Student_55 - Height: 148 cm, Weight: 106 kg\n",
      "Student_56 - Height: 154 cm, Weight: 93 kg\n",
      "Student_57 - Height: 146 cm, Weight: 85 kg\n",
      "Student_58 - Height: 159 cm, Weight: 117 kg\n",
      "Student_59 - Height: 158 cm, Weight: 109 kg\n",
      "Student_60 - Height: 145 cm, Weight: 86 kg\n",
      "Student_61 - Height: 149 cm, Weight: 87 kg\n",
      "Student_62 - Height: 143 cm, Weight: 98 kg\n",
      "Student_63 - Height: 143 cm, Weight: 115 kg\n",
      "Student_64 - Height: 142 cm, Weight: 80 kg\n",
      "Student_65 - Height: 151 cm, Weight: 86 kg\n",
      "Student_66 - Height: 160 cm, Weight: 86 kg\n",
      "Student_67 - Height: 141 cm, Weight: 113 kg\n",
      "Student_68 - Height: 158 cm, Weight: 116 kg\n",
      "Student_69 - Height: 145 cm, Weight: 87 kg\n",
      "Student_70 - Height: 145 cm, Weight: 97 kg\n",
      "Student_71 - Height: 159 cm, Weight: 114 kg\n",
      "Student_72 - Height: 144 cm, Weight: 116 kg\n",
      "Student_73 - Height: 141 cm, Weight: 116 kg\n",
      "Student_74 - Height: 156 cm, Weight: 111 kg\n",
      "Student_75 - Height: 149 cm, Weight: 103 kg\n",
      "Student_76 - Height: 155 cm, Weight: 104 kg\n",
      "Student_77 - Height: 153 cm, Weight: 98 kg\n",
      "Student_78 - Height: 153 cm, Weight: 108 kg\n",
      "Student_79 - Height: 151 cm, Weight: 117 kg\n",
      "Student_80 - Height: 154 cm, Weight: 90 kg\n",
      "Student_81 - Height: 148 cm, Weight: 96 kg\n",
      "Student_82 - Height: 155 cm, Weight: 99 kg\n",
      "Student_83 - Height: 153 cm, Weight: 98 kg\n",
      "Student_84 - Height: 151 cm, Weight: 84 kg\n",
      "Student_85 - Height: 156 cm, Weight: 114 kg\n",
      "Student_86 - Height: 158 cm, Weight: 85 kg\n",
      "Student_87 - Height: 145 cm, Weight: 113 kg\n",
      "Student_88 - Height: 148 cm, Weight: 94 kg\n",
      "Student_89 - Height: 145 cm, Weight: 101 kg\n",
      "Student_90 - Height: 153 cm, Weight: 92 kg\n",
      "Student_91 - Height: 146 cm, Weight: 114 kg\n",
      "Student_92 - Height: 156 cm, Weight: 113 kg\n",
      "Student_93 - Height: 158 cm, Weight: 85 kg\n",
      "Student_94 - Height: 151 cm, Weight: 103 kg\n",
      "Student_95 - Height: 153 cm, Weight: 115 kg\n",
      "Student_96 - Height: 143 cm, Weight: 112 kg\n",
      "Student_97 - Height: 143 cm, Weight: 87 kg\n",
      "Student_98 - Height: 146 cm, Weight: 83 kg\n",
      "Student_99 - Height: 148 cm, Weight: 97 kg\n",
      "Student_100 - Height: 154 cm, Weight: 86 kg\n",
      "\n",
      "Average Height: 150.66 cm\n",
      "Average Weight: 99.98 kg\n"
     ]
    }
   ],
   "execution_count": 18
  },
  {
   "cell_type": "markdown",
   "id": "8708f8f9-4fe5-4bd2-8cf3-1590a38af346",
   "metadata": {},
   "source": [
    "### Visualize the data"
   ]
  },
  {
   "cell_type": "code",
   "id": "70d939f1-eb39-4d9e-a8e2-40e1726f59f0",
   "metadata": {
    "ExecuteTime": {
     "end_time": "2024-11-20T15:57:17.243890Z",
     "start_time": "2024-11-20T15:57:14.863735Z"
    }
   },
   "source": [
    "# Scatter plot\n",
    "plt.figure(figsize=(10, 6))\n",
    "plt.scatter(heights, weights, color='blue', label=\"Students\")\n",
    "plt.axvline(average_height, color='purple', linestyle='--', label=\"Avg Height\")\n",
    "plt.axhline(average_weight, color='green', linestyle='--', label=\"Avg Weight\")\n",
    "plt.title(\"Height vs Weight of Students\")\n",
    "plt.xlabel(\"Height (cm)\")\n",
    "plt.ylabel(\"Weight (kg)\")\n",
    "plt.grid()\n",
    "plt.legend()\n"
   ],
   "outputs": [
    {
     "data": {
      "text/plain": [
       "<matplotlib.legend.Legend at 0x15f7c6e0140>"
      ]
     },
     "execution_count": 19,
     "metadata": {},
     "output_type": "execute_result"
    },
    {
     "data": {
      "text/plain": [
       "<Figure size 1000x600 with 1 Axes>"
      ],
      "image/png": "[encoded data removed]"
     },
     "metadata": {},
     "output_type": "display_data"
    }
   ],
   "execution_count": 19
  },
  {
   "cell_type": "code",
   "execution_count": null,
   "id": "992157a8-b76b-457e-ae4a-8e855b56291d",
   "metadata": {},
   "outputs": [],
   "source": []
  }
 ],
 "metadata": {
  "kernelspec": {
   "display_name": "Python 3 (ipykernel)",
   "language": "python",
   "name": "python3"
  },
  "language_info": {
   "codemirror_mode": {
    "name": "ipython",
    "version": 3
   },
   "file_extension": ".py",
   "mimetype": "text/x-python",
   "name": "python",
   "nbconvert_exporter": "python",
   "pygments_lexer": "ipython3",
   "version": "3.12.3"
  }
 },
 "nbformat": 4,
 "nbformat_minor": 5
}
